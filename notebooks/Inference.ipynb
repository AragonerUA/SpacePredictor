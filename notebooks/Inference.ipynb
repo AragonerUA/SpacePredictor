{
  "nbformat": 4,
  "nbformat_minor": 0,
  "metadata": {
    "colab": {
      "provenance": []
    },
    "kernelspec": {
      "name": "python3",
      "display_name": "Python 3"
    },
    "language_info": {
      "name": "python"
    },
    "widgets": {
      "application/vnd.jupyter.widget-state+json": {
        "d035b65f858f4e42bead103141e7dfd9": {
          "model_module": "@jupyter-widgets/controls",
          "model_name": "HTMLModel",
          "model_module_version": "1.5.0",
          "state": {
            "_dom_classes": [],
            "_model_module": "@jupyter-widgets/controls",
            "_model_module_version": "1.5.0",
            "_model_name": "HTMLModel",
            "_view_count": null,
            "_view_module": "@jupyter-widgets/controls",
            "_view_module_version": "1.5.0",
            "_view_name": "HTMLView",
            "description": "",
            "description_tooltip": null,
            "layout": "IPY_MODEL_e8eff62e51814ff4b6b12fbefc1c153e",
            "placeholder": "​",
            "style": "IPY_MODEL_97b33a736b894381b5286d9f9b34c410",
            "value": "<h2>Code Formatter</h2>"
          }
        },
        "e8eff62e51814ff4b6b12fbefc1c153e": {
          "model_module": "@jupyter-widgets/base",
          "model_name": "LayoutModel",
          "model_module_version": "1.2.0",
          "state": {
            "_model_module": "@jupyter-widgets/base",
            "_model_module_version": "1.2.0",
            "_model_name": "LayoutModel",
            "_view_count": null,
            "_view_module": "@jupyter-widgets/base",
            "_view_module_version": "1.2.0",
            "_view_name": "LayoutView",
            "align_content": null,
            "align_items": null,
            "align_self": null,
            "border": null,
            "bottom": null,
            "display": null,
            "flex": null,
            "flex_flow": null,
            "grid_area": null,
            "grid_auto_columns": null,
            "grid_auto_flow": null,
            "grid_auto_rows": null,
            "grid_column": null,
            "grid_gap": null,
            "grid_row": null,
            "grid_template_areas": null,
            "grid_template_columns": null,
            "grid_template_rows": null,
            "height": null,
            "justify_content": null,
            "justify_items": null,
            "left": null,
            "margin": null,
            "max_height": null,
            "max_width": null,
            "min_height": null,
            "min_width": null,
            "object_fit": null,
            "object_position": null,
            "order": null,
            "overflow": null,
            "overflow_x": null,
            "overflow_y": null,
            "padding": null,
            "right": null,
            "top": null,
            "visibility": null,
            "width": null
          }
        },
        "97b33a736b894381b5286d9f9b34c410": {
          "model_module": "@jupyter-widgets/controls",
          "model_name": "DescriptionStyleModel",
          "model_module_version": "1.5.0",
          "state": {
            "_model_module": "@jupyter-widgets/controls",
            "_model_module_version": "1.5.0",
            "_model_name": "DescriptionStyleModel",
            "_view_count": null,
            "_view_module": "@jupyter-widgets/base",
            "_view_module_version": "1.2.0",
            "_view_name": "StyleView",
            "description_width": ""
          }
        },
        "783b37523c0949638e7d1c40a74bf061": {
          "model_module": "@jupyter-widgets/controls",
          "model_name": "HTMLModel",
          "model_module_version": "1.5.0",
          "state": {
            "_dom_classes": [],
            "_model_module": "@jupyter-widgets/controls",
            "_model_module_version": "1.5.0",
            "_model_name": "HTMLModel",
            "_view_count": null,
            "_view_module": "@jupyter-widgets/controls",
            "_view_module_version": "1.5.0",
            "_view_name": "HTMLView",
            "description": "",
            "description_tooltip": null,
            "layout": "IPY_MODEL_5fc7edce76bf4ae584cde74f49ca9951",
            "placeholder": "​",
            "style": "IPY_MODEL_5f5e6cbe6f0c42d7b1e50bba0f0fe101",
            "value": "<p>Enter unformatted code and receive formatted code as per learned conventions.</p>"
          }
        },
        "5fc7edce76bf4ae584cde74f49ca9951": {
          "model_module": "@jupyter-widgets/base",
          "model_name": "LayoutModel",
          "model_module_version": "1.2.0",
          "state": {
            "_model_module": "@jupyter-widgets/base",
            "_model_module_version": "1.2.0",
            "_model_name": "LayoutModel",
            "_view_count": null,
            "_view_module": "@jupyter-widgets/base",
            "_view_module_version": "1.2.0",
            "_view_name": "LayoutView",
            "align_content": null,
            "align_items": null,
            "align_self": null,
            "border": null,
            "bottom": null,
            "display": null,
            "flex": null,
            "flex_flow": null,
            "grid_area": null,
            "grid_auto_columns": null,
            "grid_auto_flow": null,
            "grid_auto_rows": null,
            "grid_column": null,
            "grid_gap": null,
            "grid_row": null,
            "grid_template_areas": null,
            "grid_template_columns": null,
            "grid_template_rows": null,
            "height": null,
            "justify_content": null,
            "justify_items": null,
            "left": null,
            "margin": null,
            "max_height": null,
            "max_width": null,
            "min_height": null,
            "min_width": null,
            "object_fit": null,
            "object_position": null,
            "order": null,
            "overflow": null,
            "overflow_x": null,
            "overflow_y": null,
            "padding": null,
            "right": null,
            "top": null,
            "visibility": null,
            "width": null
          }
        },
        "5f5e6cbe6f0c42d7b1e50bba0f0fe101": {
          "model_module": "@jupyter-widgets/controls",
          "model_name": "DescriptionStyleModel",
          "model_module_version": "1.5.0",
          "state": {
            "_model_module": "@jupyter-widgets/controls",
            "_model_module_version": "1.5.0",
            "_model_name": "DescriptionStyleModel",
            "_view_count": null,
            "_view_module": "@jupyter-widgets/base",
            "_view_module_version": "1.2.0",
            "_view_name": "StyleView",
            "description_width": ""
          }
        },
        "8e34fa2953094f13aaada848934b51df": {
          "model_module": "@jupyter-widgets/controls",
          "model_name": "TextareaModel",
          "model_module_version": "1.5.0",
          "state": {
            "_dom_classes": [],
            "_model_module": "@jupyter-widgets/controls",
            "_model_module_version": "1.5.0",
            "_model_name": "TextareaModel",
            "_view_count": null,
            "_view_module": "@jupyter-widgets/controls",
            "_view_module_version": "1.5.0",
            "_view_name": "TextareaView",
            "continuous_update": true,
            "description": "Unformatted Code:",
            "description_tooltip": null,
            "disabled": false,
            "layout": "IPY_MODEL_ef1e6612fd8a4bcc8a8ee6c6b160577f",
            "placeholder": "Type your unformatted code here...",
            "rows": null,
            "style": "IPY_MODEL_720dc15708ca48e88ad13e26a0d67a89",
            "value": "def factorial(n):\n if n==0: return 1 \n elif n==2: \n  return 2 \n  elif   n== 3:\n return 35 else:\n return n*factorial(n-1)"
          }
        },
        "ef1e6612fd8a4bcc8a8ee6c6b160577f": {
          "model_module": "@jupyter-widgets/base",
          "model_name": "LayoutModel",
          "model_module_version": "1.2.0",
          "state": {
            "_model_module": "@jupyter-widgets/base",
            "_model_module_version": "1.2.0",
            "_model_name": "LayoutModel",
            "_view_count": null,
            "_view_module": "@jupyter-widgets/base",
            "_view_module_version": "1.2.0",
            "_view_name": "LayoutView",
            "align_content": null,
            "align_items": null,
            "align_self": null,
            "border": null,
            "bottom": null,
            "display": null,
            "flex": null,
            "flex_flow": null,
            "grid_area": null,
            "grid_auto_columns": null,
            "grid_auto_flow": null,
            "grid_auto_rows": null,
            "grid_column": null,
            "grid_gap": null,
            "grid_row": null,
            "grid_template_areas": null,
            "grid_template_columns": null,
            "grid_template_rows": null,
            "height": "200px",
            "justify_content": null,
            "justify_items": null,
            "left": null,
            "margin": null,
            "max_height": null,
            "max_width": null,
            "min_height": null,
            "min_width": null,
            "object_fit": null,
            "object_position": null,
            "order": null,
            "overflow": null,
            "overflow_x": null,
            "overflow_y": null,
            "padding": null,
            "right": null,
            "top": null,
            "visibility": null,
            "width": "100%"
          }
        },
        "720dc15708ca48e88ad13e26a0d67a89": {
          "model_module": "@jupyter-widgets/controls",
          "model_name": "DescriptionStyleModel",
          "model_module_version": "1.5.0",
          "state": {
            "_model_module": "@jupyter-widgets/controls",
            "_model_module_version": "1.5.0",
            "_model_name": "DescriptionStyleModel",
            "_view_count": null,
            "_view_module": "@jupyter-widgets/base",
            "_view_module_version": "1.2.0",
            "_view_name": "StyleView",
            "description_width": ""
          }
        },
        "753d5276a6224f7891bcbf344627ee95": {
          "model_module": "@jupyter-widgets/controls",
          "model_name": "ButtonModel",
          "model_module_version": "1.5.0",
          "state": {
            "_dom_classes": [],
            "_model_module": "@jupyter-widgets/controls",
            "_model_module_version": "1.5.0",
            "_model_name": "ButtonModel",
            "_view_count": null,
            "_view_module": "@jupyter-widgets/controls",
            "_view_module_version": "1.5.0",
            "_view_name": "ButtonView",
            "button_style": "success",
            "description": "Format Code",
            "disabled": false,
            "icon": "",
            "layout": "IPY_MODEL_f05a0cd265f649dbb19ea2e3b674ce94",
            "style": "IPY_MODEL_3d6bd0705a8d4dc9a270c3bfffd42307",
            "tooltip": ""
          }
        },
        "f05a0cd265f649dbb19ea2e3b674ce94": {
          "model_module": "@jupyter-widgets/base",
          "model_name": "LayoutModel",
          "model_module_version": "1.2.0",
          "state": {
            "_model_module": "@jupyter-widgets/base",
            "_model_module_version": "1.2.0",
            "_model_name": "LayoutModel",
            "_view_count": null,
            "_view_module": "@jupyter-widgets/base",
            "_view_module_version": "1.2.0",
            "_view_name": "LayoutView",
            "align_content": null,
            "align_items": null,
            "align_self": null,
            "border": null,
            "bottom": null,
            "display": null,
            "flex": null,
            "flex_flow": null,
            "grid_area": null,
            "grid_auto_columns": null,
            "grid_auto_flow": null,
            "grid_auto_rows": null,
            "grid_column": null,
            "grid_gap": null,
            "grid_row": null,
            "grid_template_areas": null,
            "grid_template_columns": null,
            "grid_template_rows": null,
            "height": null,
            "justify_content": null,
            "justify_items": null,
            "left": null,
            "margin": null,
            "max_height": null,
            "max_width": null,
            "min_height": null,
            "min_width": null,
            "object_fit": null,
            "object_position": null,
            "order": null,
            "overflow": null,
            "overflow_x": null,
            "overflow_y": null,
            "padding": null,
            "right": null,
            "top": null,
            "visibility": null,
            "width": null
          }
        },
        "3d6bd0705a8d4dc9a270c3bfffd42307": {
          "model_module": "@jupyter-widgets/controls",
          "model_name": "ButtonStyleModel",
          "model_module_version": "1.5.0",
          "state": {
            "_model_module": "@jupyter-widgets/controls",
            "_model_module_version": "1.5.0",
            "_model_name": "ButtonStyleModel",
            "_view_count": null,
            "_view_module": "@jupyter-widgets/base",
            "_view_module_version": "1.2.0",
            "_view_name": "StyleView",
            "button_color": null,
            "font_weight": ""
          }
        },
        "812673706ea547c6a8a3a9820a02a07c": {
          "model_module": "@jupyter-widgets/output",
          "model_name": "OutputModel",
          "model_module_version": "1.0.0",
          "state": {
            "_dom_classes": [],
            "_model_module": "@jupyter-widgets/output",
            "_model_module_version": "1.0.0",
            "_model_name": "OutputModel",
            "_view_count": null,
            "_view_module": "@jupyter-widgets/output",
            "_view_module_version": "1.0.0",
            "_view_name": "OutputView",
            "layout": "IPY_MODEL_5cada12628d344288b7f17662da15574",
            "msg_id": "",
            "outputs": [
              {
                "output_type": "display_data",
                "data": {
                  "text/plain": "<IPython.core.display.Markdown object>",
                  "text/markdown": "**Formatted Code:**"
                },
                "metadata": {}
              },
              {
                "output_type": "display_data",
                "data": {
                  "text/plain": "<IPython.core.display.Markdown object>",
                  "text/markdown": "```python\ndef factorial(n): if n==0: return 1 elif n==2: return 2 elif n== 3: return 35 else: return n*factorial(n-1): return n*factorial(n-1)\n```"
                },
                "metadata": {}
              }
            ]
          }
        },
        "5cada12628d344288b7f17662da15574": {
          "model_module": "@jupyter-widgets/base",
          "model_name": "LayoutModel",
          "model_module_version": "1.2.0",
          "state": {
            "_model_module": "@jupyter-widgets/base",
            "_model_module_version": "1.2.0",
            "_model_name": "LayoutModel",
            "_view_count": null,
            "_view_module": "@jupyter-widgets/base",
            "_view_module_version": "1.2.0",
            "_view_name": "LayoutView",
            "align_content": null,
            "align_items": null,
            "align_self": null,
            "border": null,
            "bottom": null,
            "display": null,
            "flex": null,
            "flex_flow": null,
            "grid_area": null,
            "grid_auto_columns": null,
            "grid_auto_flow": null,
            "grid_auto_rows": null,
            "grid_column": null,
            "grid_gap": null,
            "grid_row": null,
            "grid_template_areas": null,
            "grid_template_columns": null,
            "grid_template_rows": null,
            "height": null,
            "justify_content": null,
            "justify_items": null,
            "left": null,
            "margin": null,
            "max_height": null,
            "max_width": null,
            "min_height": null,
            "min_width": null,
            "object_fit": null,
            "object_position": null,
            "order": null,
            "overflow": null,
            "overflow_x": null,
            "overflow_y": null,
            "padding": null,
            "right": null,
            "top": null,
            "visibility": null,
            "width": null
          }
        }
      }
    }
  },
  "cells": [
    {
      "cell_type": "markdown",
      "source": [
        "# Inference"
      ],
      "metadata": {
        "id": "ojtFq-gy8MMq"
      }
    },
    {
      "cell_type": "markdown",
      "source": [
        "## Imports and downloads"
      ],
      "metadata": {
        "id": "0SumIQT48b0Z"
      }
    },
    {
      "cell_type": "code",
      "source": [
        "!pip install gdown"
      ],
      "metadata": {
        "colab": {
          "base_uri": "https://localhost:8080/"
        },
        "id": "bIFhrEIrA7pb",
        "outputId": "56e7fbf9-a07f-4896-c023-6be95f5920c2"
      },
      "execution_count": 1,
      "outputs": [
        {
          "output_type": "stream",
          "name": "stdout",
          "text": [
            "Requirement already satisfied: gdown in /usr/local/lib/python3.10/dist-packages (5.2.0)\n",
            "Requirement already satisfied: beautifulsoup4 in /usr/local/lib/python3.10/dist-packages (from gdown) (4.12.3)\n",
            "Requirement already satisfied: filelock in /usr/local/lib/python3.10/dist-packages (from gdown) (3.16.1)\n",
            "Requirement already satisfied: requests[socks] in /usr/local/lib/python3.10/dist-packages (from gdown) (2.32.3)\n",
            "Requirement already satisfied: tqdm in /usr/local/lib/python3.10/dist-packages (from gdown) (4.66.6)\n",
            "Requirement already satisfied: soupsieve>1.2 in /usr/local/lib/python3.10/dist-packages (from beautifulsoup4->gdown) (2.6)\n",
            "Requirement already satisfied: charset-normalizer<4,>=2 in /usr/local/lib/python3.10/dist-packages (from requests[socks]->gdown) (3.4.0)\n",
            "Requirement already satisfied: idna<4,>=2.5 in /usr/local/lib/python3.10/dist-packages (from requests[socks]->gdown) (3.10)\n",
            "Requirement already satisfied: urllib3<3,>=1.21.1 in /usr/local/lib/python3.10/dist-packages (from requests[socks]->gdown) (2.2.3)\n",
            "Requirement already satisfied: certifi>=2017.4.17 in /usr/local/lib/python3.10/dist-packages (from requests[socks]->gdown) (2024.8.30)\n",
            "Requirement already satisfied: PySocks!=1.5.7,>=1.5.6 in /usr/local/lib/python3.10/dist-packages (from requests[socks]->gdown) (1.7.1)\n"
          ]
        }
      ]
    },
    {
      "cell_type": "code",
      "source": [
        "import torch\n",
        "from transformers import T5Tokenizer, T5ForConditionalGeneration\n",
        "from google.colab import drive\n",
        "import os\n",
        "import requests\n",
        "import zipfile\n",
        "import gdown\n",
        "import ipywidgets as widgets\n",
        "from IPython.display import display, Markdown"
      ],
      "metadata": {
        "id": "A2FL-jPS8Fdo"
      },
      "execution_count": 2,
      "outputs": []
    },
    {
      "cell_type": "markdown",
      "source": [
        "## Checkpoint mounting"
      ],
      "metadata": {
        "id": "xumee1yfDQb_"
      }
    },
    {
      "cell_type": "code",
      "source": [
        "file_id = '1RIDAda9iwBkUeqh1j4eetvRXyqA7hhnt'\n",
        "url = f\"https://drive.google.com/uc?id={file_id}\"\n",
        "output = \"trained_model.zip\"\n",
        "model_dir = \"model\"\n",
        "\n",
        "# Download the zipped file\n",
        "gdown.download(url, output, quiet=False)\n",
        "\n",
        "# Create a directory for the model and extract the contents\n",
        "os.makedirs(model_dir, exist_ok=True)\n",
        "with zipfile.ZipFile(output, \"r\") as zip_ref:\n",
        "    zip_ref.extractall(model_dir)\n",
        "\n",
        "if os.path.exists(\"/content/model/added_tokens.json\"):\n",
        "    os.remove(\"/content/model/added_tokens.json\")\n",
        "\n",
        "print(\"Model folder downloaded and extracted successfully!\")"
      ],
      "metadata": {
        "colab": {
          "base_uri": "https://localhost:8080/"
        },
        "id": "WlZSbBtv-oNX",
        "outputId": "a55199aa-e4d2-45e0-9775-e5c3f95ec6e9"
      },
      "execution_count": 3,
      "outputs": [
        {
          "output_type": "stream",
          "name": "stderr",
          "text": [
            "Downloading...\n",
            "From (original): https://drive.google.com/uc?id=1RIDAda9iwBkUeqh1j4eetvRXyqA7hhnt\n",
            "From (redirected): https://drive.google.com/uc?id=1RIDAda9iwBkUeqh1j4eetvRXyqA7hhnt&confirm=t&uuid=50ffbe7b-148d-46ae-b516-9178421b3a40\n",
            "To: /content/trained_model.zip\n",
            "100%|██████████| 822M/822M [00:04<00:00, 166MB/s]\n"
          ]
        },
        {
          "output_type": "stream",
          "name": "stdout",
          "text": [
            "Model folder downloaded and extracted successfully!\n"
          ]
        }
      ]
    },
    {
      "cell_type": "markdown",
      "source": [
        "## Model"
      ],
      "metadata": {
        "id": "BaZHJHXmD6OB"
      }
    },
    {
      "cell_type": "code",
      "source": [
        "device = torch.device(\"cuda\" if torch.cuda.is_available() else \"cpu\")\n",
        "print(f\"Using device: {device}\")"
      ],
      "metadata": {
        "colab": {
          "base_uri": "https://localhost:8080/"
        },
        "id": "ijVzjEmogc5Q",
        "outputId": "37f33ab1-56f1-46ab-d1ad-2c9944f2be0b"
      },
      "execution_count": 4,
      "outputs": [
        {
          "output_type": "stream",
          "name": "stdout",
          "text": [
            "Using device: cpu\n"
          ]
        }
      ]
    },
    {
      "cell_type": "code",
      "source": [
        "def load_model():\n",
        "    tokenizer = T5Tokenizer.from_pretrained(model_dir)\n",
        "    model = T5ForConditionalGeneration.from_pretrained(model_dir)\n",
        "    model.to(device)\n",
        "    model.eval()\n",
        "    return tokenizer, model\n",
        "\n",
        "\n",
        "tokenizer, model = load_model()"
      ],
      "metadata": {
        "id": "lCZtCxPCgdXv"
      },
      "execution_count": 5,
      "outputs": []
    },
    {
      "cell_type": "code",
      "source": [
        "def format_code(unformatted_code, max_length=512):\n",
        "    input_ids = tokenizer.encode(\n",
        "        unformatted_code,\n",
        "        return_tensors='pt',\n",
        "        truncation=True,\n",
        "        max_length=max_length,\n",
        "    ).to(device)\n",
        "\n",
        "    with torch.no_grad():\n",
        "        outputs = model.generate(\n",
        "            input_ids=input_ids,\n",
        "            max_length=max_length,\n",
        "            num_beams=5,\n",
        "            early_stopping=True,\n",
        "        )\n",
        "\n",
        "    formatted_code = tokenizer.decode(\n",
        "        outputs[0],\n",
        "        skip_special_tokens=True,\n",
        "        clean_up_tokenization_spaces=True,\n",
        "    )\n",
        "\n",
        "    return formatted_code.strip()"
      ],
      "metadata": {
        "id": "6pS1f_r8gph8"
      },
      "execution_count": 6,
      "outputs": []
    },
    {
      "cell_type": "code",
      "source": [
        "title = widgets.HTML(\"<h2>Code Formatter</h2>\")\n",
        "description = widgets.HTML(\"<p>Enter unformatted code and receive formatted code as per learned conventions.</p>\")\n",
        "code_input = widgets.Textarea(\n",
        "    value='',\n",
        "    placeholder='Type your unformatted code here...',\n",
        "    description='Unformatted Code:',\n",
        "    layout=widgets.Layout(width='100%', height='200px')\n",
        ")\n",
        "\n",
        "format_button = widgets.Button(description=\"Format Code\", button_style='success')\n",
        "output_area = widgets.Output()\n",
        "\n",
        "def on_format_button_click(b):\n",
        "    with output_area:\n",
        "        output_area.clear_output()\n",
        "        unformatted_code = code_input.value.strip()\n",
        "        if unformatted_code == \"\":\n",
        "            display(Markdown(\"**Warning:** Please enter some code.\"))\n",
        "        else:\n",
        "            formatted_code = format_code(unformatted_code)\n",
        "            display(Markdown(\"**Formatted Code:**\"))\n",
        "            display(Markdown(f\"```python\\n{formatted_code}\\n```\"))\n",
        "\n",
        "format_button.on_click(on_format_button_click)\n",
        "\n",
        "display(title, description, code_input, format_button, output_area)"
      ],
      "metadata": {
        "colab": {
          "base_uri": "https://localhost:8080/",
          "height": 412,
          "referenced_widgets": [
            "d035b65f858f4e42bead103141e7dfd9",
            "e8eff62e51814ff4b6b12fbefc1c153e",
            "97b33a736b894381b5286d9f9b34c410",
            "783b37523c0949638e7d1c40a74bf061",
            "5fc7edce76bf4ae584cde74f49ca9951",
            "5f5e6cbe6f0c42d7b1e50bba0f0fe101",
            "8e34fa2953094f13aaada848934b51df",
            "ef1e6612fd8a4bcc8a8ee6c6b160577f",
            "720dc15708ca48e88ad13e26a0d67a89",
            "753d5276a6224f7891bcbf344627ee95",
            "f05a0cd265f649dbb19ea2e3b674ce94",
            "3d6bd0705a8d4dc9a270c3bfffd42307",
            "812673706ea547c6a8a3a9820a02a07c",
            "5cada12628d344288b7f17662da15574"
          ]
        },
        "id": "l7-DEuwaF1UO",
        "outputId": "08ecc1d1-0e24-4325-a05b-825b9cf99b11"
      },
      "execution_count": 8,
      "outputs": [
        {
          "output_type": "display_data",
          "data": {
            "text/plain": [
              "HTML(value='<h2>Code Formatter</h2>')"
            ],
            "application/vnd.jupyter.widget-view+json": {
              "version_major": 2,
              "version_minor": 0,
              "model_id": "d035b65f858f4e42bead103141e7dfd9"
            }
          },
          "metadata": {}
        },
        {
          "output_type": "display_data",
          "data": {
            "text/plain": [
              "HTML(value='<p>Enter unformatted code and receive formatted code as per learned conventions.</p>')"
            ],
            "application/vnd.jupyter.widget-view+json": {
              "version_major": 2,
              "version_minor": 0,
              "model_id": "783b37523c0949638e7d1c40a74bf061"
            }
          },
          "metadata": {}
        },
        {
          "output_type": "display_data",
          "data": {
            "text/plain": [
              "Textarea(value='', description='Unformatted Code:', layout=Layout(height='200px', width='100%'), placeholder='…"
            ],
            "application/vnd.jupyter.widget-view+json": {
              "version_major": 2,
              "version_minor": 0,
              "model_id": "8e34fa2953094f13aaada848934b51df"
            }
          },
          "metadata": {}
        },
        {
          "output_type": "display_data",
          "data": {
            "text/plain": [
              "Button(button_style='success', description='Format Code', style=ButtonStyle())"
            ],
            "application/vnd.jupyter.widget-view+json": {
              "version_major": 2,
              "version_minor": 0,
              "model_id": "753d5276a6224f7891bcbf344627ee95"
            }
          },
          "metadata": {}
        },
        {
          "output_type": "display_data",
          "data": {
            "text/plain": [
              "Output()"
            ],
            "application/vnd.jupyter.widget-view+json": {
              "version_major": 2,
              "version_minor": 0,
              "model_id": "812673706ea547c6a8a3a9820a02a07c"
            }
          },
          "metadata": {}
        }
      ]
    }
  ]
}